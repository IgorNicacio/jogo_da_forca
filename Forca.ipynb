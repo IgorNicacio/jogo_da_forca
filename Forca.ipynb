{
  "nbformat": 4,
  "nbformat_minor": 0,
  "metadata": {
    "colab": {
      "provenance": [],
      "authorship_tag": "ABX9TyMDHQQRmzVpDxS/0lentfZJ",
      "include_colab_link": true
    },
    "kernelspec": {
      "name": "python3",
      "display_name": "Python 3"
    },
    "language_info": {
      "name": "python"
    }
  },
  "cells": [
    {
      "cell_type": "markdown",
      "metadata": {
        "id": "view-in-github",
        "colab_type": "text"
      },
      "source": [
        "<a href=\"https://colab.research.google.com/github/IgorNicacio/jogo_da_forca/blob/main/Forca.ipynb\" target=\"_parent\"><img src=\"https://colab.research.google.com/assets/colab-badge.svg\" alt=\"Open In Colab\"/></a>"
      ]
    },
    {
      "cell_type": "code",
      "execution_count": null,
      "metadata": {
        "id": "gRIGpH-6DKAv"
      },
      "outputs": [],
      "source": [
        "import random as r\n",
        "def jogo_forca():\n",
        "    palavras =  [\"java\", \"python\", \"go\", \"rust\"]\n",
        "    palavra = r.choice(palavras)\n",
        "    acertos = []\n",
        "    erros = []"
      ]
    },
    {
      "cell_type": "code",
      "source": [
        "    def revelacao (palavra_revelada, letras):\n",
        "      resultado = \"\"\n",
        "      for letra in palavra_revelada:\n",
        "        if letra in letras:\n",
        "          resultado += letra\n",
        "        else:\n",
        "            resultado += \"_\"\n",
        "      return resultado"
      ],
      "metadata": {
        "id": "Zao7MyPbFgKu"
      },
      "execution_count": null,
      "outputs": []
    },
    {
      "cell_type": "code",
      "source": [
        "    def enforcado(erros):\n",
        "      membros = [\"  O\",\" /|\\\\\",\"  |  \",\" / \\\\\"]\n",
        "      for i in range(erros):\n",
        "        print(membros[i])"
      ],
      "metadata": {
        "id": "kAuZKuSHGKK-"
      },
      "execution_count": null,
      "outputs": []
    },
    {
      "cell_type": "code",
      "source": [
        "    tentativas_max = 6\n",
        "    tentativas = 0\n",
        "\n",
        "    while tentativas<tentativas_max:\n",
        "      letra = input(\"tente uma letra: \").lower()\n",
        "\n",
        "      if letra in acertos or letra in erros:\n",
        "        print(\"Você ja tentou essa letra!\")\n",
        "        continue\n",
        "\n",
        "      if letra in palavra:\n",
        "        acertos.append(letra)\n",
        "      else:\n",
        "          erros.append(letra)\n",
        "          tentativas +=1\n",
        "\n",
        "      resultado = revelacao(palavra, acertos)\n",
        "      print(resultado)\n",
        "\n",
        "      if resultado == palavra:\n",
        "        print(\"parabens, você acertou!!!\")\n",
        "        break\n",
        "\n",
        "      print(\"Letras erradas: \", erros)\n",
        "      print(\"Tentativas restantes: \", tentativas_max - tentativas)\n",
        "      enforcado(tentativas)\n",
        "\n",
        "      if tentativas == tentativas_max:\n",
        "        print(\"Você perdeu, a palavra era: \", palavra)\n",
        "jogo_forca()"
      ],
      "metadata": {
        "id": "6rphjypyHJJG"
      },
      "execution_count": null,
      "outputs": []
    }
  ]
}